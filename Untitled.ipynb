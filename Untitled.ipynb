{
 "cells": [
  {
   "cell_type": "code",
   "execution_count": null,
   "id": "0ffe3a94",
   "metadata": {},
   "outputs": [],
   "source": [
    "import cvlib\n",
    "import cv2\n",
    "import os\n",
    "import tensorflow\n",
    "import datetime\n",
    "import numpy as np\n",
    "\n",
    "human_detected = False\n",
    "error_alert = False\n",
    "\n",
    "\n",
    "def humanDetect(save_directory, yolo='yolov4', continuous=False, nth_frame=10, confidence=.65, gpu=False):\n",
    "    human_count = 0\n",
    "    # for human detection\n",
    "    is_humandetect = False\n",
    "    is_valid = False\n",
    "    analyze_error = False\n",
    "\n",
    "    vid = cv2.VideoCapture(0)\n",
    "    while (vid.isOpened()):\n",
    "        while (True):\n",
    "            # for video\n",
    "            #           vid.set(cv2.CAP_PROP_POS_FRAMES,frame_number)                #will make a set of frames with their position\n",
    "            ret , frame = vid.read()\n",
    "            cv2.imshow('frame', frame)\n",
    "            cv2.waitKey(10) & 0xFF\n",
    "            try:\n",
    "                bbox, labels, conf = cvlib.detect_common_objects(frame, model=yolo, confidence=confidence,enable_gpu=gpu)\n",
    "            except Exception as e:\n",
    "                print(e)\n",
    "                analyze_error = True\n",
    "                pass\n",
    "\n",
    "            if 'person' in labels:\n",
    "                human_count += 1\n",
    "                is_humandetect = True\n",
    "\n",
    "                marked_frame = cv2.object_detection.draw_bbox(frame, bbox, labels, conf, write_conf=True)\n",
    "\n",
    "                save_file_name = os.path.basename('screenshot' + '-' + str(person_detection_counter) + '.jpeg')\n",
    "                cv2.imwrite(save_directory + '/' + save_file_name, marked_frame)\n",
    "\n",
    "        vid.release()\n",
    "        cv2.destroyAllWindows()\n",
    "    else:\n",
    "        print(\"Alert ! Camera disconnected\")\n",
    "\n",
    "location = '/Users/aishworyann/PycharmProjects/Human_detection/'\n",
    "yolo_string = 'yolov4'\n",
    "\n",
    "humanDetect(location,yolo_string)\n",
    "\n",
    "\n"
   ]
  },
  {
   "cell_type": "code",
   "execution_count": null,
   "id": "b4330349",
   "metadata": {},
   "outputs": [],
   "source": []
  }
 ],
 "metadata": {
  "kernelspec": {
   "display_name": "Python 3 (ipykernel)",
   "language": "python",
   "name": "python3"
  },
  "language_info": {
   "codemirror_mode": {
    "name": "ipython",
    "version": 3
   },
   "file_extension": ".py",
   "mimetype": "text/x-python",
   "name": "python",
   "nbconvert_exporter": "python",
   "pygments_lexer": "ipython3",
   "version": "3.9.6"
  }
 },
 "nbformat": 4,
 "nbformat_minor": 5
}
